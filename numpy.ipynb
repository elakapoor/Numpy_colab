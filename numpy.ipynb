{
  "nbformat": 4,
  "nbformat_minor": 0,
  "metadata": {
    "colab": {
      "name": "numpy",
      "version": "0.3.2",
      "provenance": [],
      "collapsed_sections": []
    },
    "kernelspec": {
      "name": "python3",
      "display_name": "Python 3"
    }
  },
  "cells": [
    {
      "cell_type": "code",
      "metadata": {
        "id": "4cRCx2YRXP8l",
        "colab_type": "code",
        "colab": {}
      },
      "source": [
        "import numpy as np\n"
      ],
      "execution_count": 0,
      "outputs": []
    },
    {
      "cell_type": "code",
      "metadata": {
        "id": "3BfEnGoNcOA1",
        "colab_type": "code",
        "outputId": "a85375c8-91ef-413a-a0cd-0da1395f28b3",
        "colab": {
          "base_uri": "https://localhost:8080/",
          "height": 119
        }
      },
      "source": [
        "data1 = [1, 2, 3, 4, 5]    # the list named data1 is creayed\n",
        "print(data1)\n",
        "\n",
        "array1 = np.array(data1)   # the list named data1 is converted into array\n",
        "print(array1)\n",
        "\n",
        "data2 = [range(1, 5), range(5, 9)] \n",
        "print(data2)\n",
        "\n",
        "array2 = np.array(data2)    # by using the range command the array2 is created which have 2 rows and 4 colomns\n",
        "print(array2)\n",
        "\n",
        "array2.tolist()    # the array2 is converted into list"
      ],
      "execution_count": 0,
      "outputs": [
        {
          "output_type": "stream",
          "text": [
            "[1, 2, 3, 4, 5]\n",
            "[1 2 3 4 5]\n",
            "[range(1, 5), range(5, 9)]\n",
            "[[1 2 3 4]\n",
            " [5 6 7 8]]\n"
          ],
          "name": "stdout"
        },
        {
          "output_type": "execute_result",
          "data": {
            "text/plain": [
              "[[1, 2, 3, 4], [5, 6, 7, 8]]"
            ]
          },
          "metadata": {
            "tags": []
          },
          "execution_count": 5
        }
      ]
    },
    {
      "cell_type": "code",
      "metadata": {
        "id": "RQOHgawKcRgf",
        "colab_type": "code",
        "outputId": "5a54f33a-6370-40b5-bdac-41fe1b418320",
        "colab": {
          "base_uri": "https://localhost:8080/",
          "height": 136
        }
      },
      "source": [
        "a = np.zeros(10)  # 1 dimensional array is created having 10 zeros\n",
        "print(a)\n",
        "\n",
        "a = np.zeros((3, 6))  # 3 rows and 6 coloms array having zeros is created\n",
        "print(a)\n",
        "\n",
        "a = np.ones(10)    # 1 dimensional array is created having 10 ones\n",
        "print(a)\n",
        "\n",
        "a = np.linspace(0, 1, 5) # start, stop, and no. of items between\n",
        "print(a)\n",
        "\n",
        "a = np.logspace(0, 3, 4) # giving the value as the result of 3 power of 10 in positive and negative term\n",
        "print(a)\n",
        "\n",
        "#logspace return numbers spaced evenly on a log scale"
      ],
      "execution_count": 0,
      "outputs": [
        {
          "output_type": "stream",
          "text": [
            "[0. 0. 0. 0. 0. 0. 0. 0. 0. 0.]\n",
            "[[0. 0. 0. 0. 0. 0.]\n",
            " [0. 0. 0. 0. 0. 0.]\n",
            " [0. 0. 0. 0. 0. 0.]]\n",
            "[1. 1. 1. 1. 1. 1. 1. 1. 1. 1.]\n",
            "[0.   0.25 0.5  0.75 1.  ]\n",
            "[   1.   10.  100. 1000.]\n"
          ],
          "name": "stdout"
        }
      ]
    },
    {
      "cell_type": "code",
      "metadata": {
        "id": "MOCsAOA0ckZi",
        "colab_type": "code",
        "outputId": "23986249-a2a5-4212-cdef-63bc0cc77b1b",
        "colab": {
          "base_uri": "https://localhost:8080/",
          "height": 51
        }
      },
      "source": [
        "int_array = np.arange(5)  # an array of 5 index is created\n",
        "print(int_array)\n",
        "\n",
        "float_array = int_array.astype(float) # the array is converted into the float type\n",
        "print(float_array)"
      ],
      "execution_count": 0,
      "outputs": [
        {
          "output_type": "stream",
          "text": [
            "[0 1 2 3 4]\n",
            "[0. 1. 2. 3. 4.]\n"
          ],
          "name": "stdout"
        }
      ]
    },
    {
      "cell_type": "code",
      "metadata": {
        "id": "Jq9wHPvxc0ha",
        "colab_type": "code",
        "outputId": "ea03e91f-5613-450f-c41a-6b05efbacc4a",
        "colab": {
          "base_uri": "https://localhost:8080/",
          "height": 119
        }
      },
      "source": [
        "print(array1.dtype) # determine the type of data and total number of bytes taken in array \n",
        "print(array2.dtype) # determine the type of data and total number of bytes taken in array \n",
        "print(array2.ndim)  # print the no. of dimension  \n",
        "print(array2.shape) # print the no. of rows and no. of colomns\n",
        "print(array2.size)  # print the number of items in array\n",
        "print(len(array2))  # print the number of rows "
      ],
      "execution_count": 0,
      "outputs": [
        {
          "output_type": "stream",
          "text": [
            "int64\n",
            "int64\n",
            "2\n",
            "(2, 4)\n",
            "8\n",
            "2\n"
          ],
          "name": "stdout"
        }
      ]
    },
    {
      "cell_type": "code",
      "metadata": {
        "id": "NaTqr8BGduc_",
        "colab_type": "code",
        "outputId": "c0360c91-49bd-404b-a814-9c9731d3839f",
        "colab": {
          "base_uri": "https://localhost:8080/",
          "height": 136
        }
      },
      "source": [
        "#RESHAPE\n",
        "arr = np.arange(10, dtype = float)\n",
        "print(arr)\n",
        "arr = np.arange(10, dtype = float).reshape((2, 5)) \n",
        "\n",
        "print(arr.shape) \n",
        "print(arr.reshape(5, 2)) # 10 index number starting from 0 till 9 is given in 5 rows and 2 colomns"
      ],
      "execution_count": 0,
      "outputs": [
        {
          "output_type": "stream",
          "text": [
            "[0. 1. 2. 3. 4. 5. 6. 7. 8. 9.]\n",
            "(2, 5)\n",
            "[[0. 1.]\n",
            " [2. 3.]\n",
            " [4. 5.]\n",
            " [6. 7.]\n",
            " [8. 9.]]\n"
          ],
          "name": "stdout"
        }
      ]
    },
    {
      "cell_type": "code",
      "metadata": {
        "id": "cySbOi4OdwOj",
        "colab_type": "code",
        "outputId": "e1968178-2376-43a8-b23a-b0057de2c9cd",
        "colab": {
          "base_uri": "https://localhost:8080/",
          "height": 68
        }
      },
      "source": [
        "#add an axis\n",
        "a = np.array([0, 1]) # 1 dimensional array\n",
        "print(a)\n",
        "\n",
        "#a_col = a[: , np.newaxis] # the 1 dimensional array is converted into 2 dimension 2 rows and 1 colomn\n",
        "#print(a_col)\n",
        "\n",
        "a_col = a [:, None]  # the 1 dimensional array is converted into 2 dimension 2 rows and 1 colomn\n",
        "print(a_col)"
      ],
      "execution_count": 0,
      "outputs": [
        {
          "output_type": "stream",
          "text": [
            "[0 1]\n",
            "[[0]\n",
            " [1]]\n"
          ],
          "name": "stdout"
        }
      ]
    },
    {
      "cell_type": "code",
      "metadata": {
        "id": "edAwmDf9e1wj",
        "colab_type": "code",
        "outputId": "cface688-cf54-4375-dd16-61f6ce7cf4e1",
        "colab": {
          "base_uri": "https://localhost:8080/",
          "height": 34
        }
      },
      "source": [
        "#transpose\n",
        "print(a_col.T) # the transpose of matrix is taken"
      ],
      "execution_count": 0,
      "outputs": [
        {
          "output_type": "stream",
          "text": [
            "[[0 1]]\n"
          ],
          "name": "stdout"
        }
      ]
    },
    {
      "cell_type": "code",
      "metadata": {
        "id": "-b9IpG6ae57w",
        "colab_type": "code",
        "outputId": "b93b124c-1965-4f75-e3a2-149489e49ed4",
        "colab": {
          "base_uri": "https://localhost:8080/",
          "height": 85
        }
      },
      "source": [
        "#flatten\n",
        "import numpy as np\n",
        "x = [[2, 3, 4], [0, 5, 7], [1, 9, 8]]\n",
        "x_1 = np.array(x)\n",
        "print(x_1)\n",
        "b = x_1.flatten()\n",
        "print(b)\n"
      ],
      "execution_count": 0,
      "outputs": [
        {
          "output_type": "stream",
          "text": [
            "[[2 3 4]\n",
            " [0 5 7]\n",
            " [1 9 8]]\n",
            "[2 3 4 0 5 7 1 9 8]\n"
          ],
          "name": "stdout"
        }
      ]
    },
    {
      "cell_type": "code",
      "metadata": {
        "id": "u6yC8kqSfQhC",
        "colab_type": "code",
        "outputId": "ea62a146-c7bf-440d-c3e1-b7ffee77eb1d",
        "colab": {
          "base_uri": "https://localhost:8080/",
          "height": 85
        }
      },
      "source": [
        "#ravel \n",
        "arr_flt = arr.ravel()\n",
        "print(arr_flt)\n",
        "\n",
        "arr_flt[0] = 33 # the [0] is replaced by 33\n",
        "print(arr_flt)\n",
        "\n",
        "print(arr) # print a 2 dimensional array"
      ],
      "execution_count": 0,
      "outputs": [
        {
          "output_type": "stream",
          "text": [
            "[0. 1. 2. 3. 4. 5. 6. 7. 8. 9.]\n",
            "[33.  1.  2.  3.  4.  5.  6.  7.  8.  9.]\n",
            "[[33.  1.  2.  3.  4.]\n",
            " [ 5.  6.  7.  8.  9.]]\n"
          ],
          "name": "stdout"
        }
      ]
    },
    {
      "cell_type": "code",
      "metadata": {
        "id": "8OnF7D55fTgA",
        "colab_type": "code",
        "outputId": "c3180a6f-68a9-46ea-afa4-16b5c3d36796",
        "colab": {
          "base_uri": "https://localhost:8080/",
          "height": 153
        }
      },
      "source": [
        "#STACK ARRAY\n",
        "x = np.array([0, 1]) # matrix x\n",
        "print(x)\n",
        "\n",
        "y = np.array([2, 3])  # matrix y\n",
        "print(y) \n",
        "\n",
        "xy = np.stack((x, y)) # stack is used to merge the matrix x and y.\n",
        "print(xy)\n",
        "\n",
        "xy = np.stack((x, y)).T  #T is used for the transpose of the matrix \n",
        "print(xy)\n",
        "\n",
        "np.hstack((x[: , None], y[:, None])) #used for the transpose of the matrix"
      ],
      "execution_count": 0,
      "outputs": [
        {
          "output_type": "stream",
          "text": [
            "[0 1]\n",
            "[2 3]\n",
            "[[0 1]\n",
            " [2 3]]\n",
            "[[0 2]\n",
            " [1 3]]\n"
          ],
          "name": "stdout"
        },
        {
          "output_type": "execute_result",
          "data": {
            "text/plain": [
              "array([[0, 2],\n",
              "       [1, 3]])"
            ]
          },
          "metadata": {
            "tags": []
          },
          "execution_count": 15
        }
      ]
    },
    {
      "cell_type": "code",
      "metadata": {
        "id": "p1FXrYJQfWBj",
        "colab_type": "code",
        "outputId": "7b59b7f0-4313-4278-a847-fcec801ff4d4",
        "colab": {
          "base_uri": "https://localhost:8080/",
          "height": 102
        }
      },
      "source": [
        "#selection\n",
        "arry = np.arange(10, dtype = float).reshape((2, 5)) #matrix of 2 rows 5 colomns having float data type and 10 index \n",
        "                                                     #number is created\n",
        "print(arry)\n",
        "\n",
        "print(arry[0]) # the first row is printed which has a index of 0\n",
        "print(arry[0, 3]) # the third item from the 0 index row \n",
        "print(arry[0][3]) # the third item from the 0 index row"
      ],
      "execution_count": 0,
      "outputs": [
        {
          "output_type": "stream",
          "text": [
            "[[0. 1. 2. 3. 4.]\n",
            " [5. 6. 7. 8. 9.]]\n",
            "[0. 1. 2. 3. 4.]\n",
            "3.0\n",
            "3.0\n"
          ],
          "name": "stdout"
        }
      ]
    },
    {
      "cell_type": "code",
      "metadata": {
        "id": "iLV75gaAfdZQ",
        "colab_type": "code",
        "outputId": "3472f942-b1af-4632-8d0e-32b97328d62b",
        "colab": {
          "base_uri": "https://localhost:8080/",
          "height": 238
        }
      },
      "source": [
        "#SLICING \n",
        "arry = np.arange(10, dtype = float).reshape((2, 5)) #matrix of 2 rows 5 colomns having float data type and 10 index \n",
        "                                                     #number is created\n",
        "print(arry)\n",
        "\n",
        "print(arry[0, :])    # the 0 index row with all elements till last\n",
        "\n",
        "print(arry[:, 0])    # the 0 index colomn\n",
        "\n",
        "print(arry[:, :2])     #colomns befor index 2 \n",
        "\n",
        "print(arry[:, 2:])     #colomns between 2 (included) and last\n",
        "\n",
        "arry2 = arry[:, 1:4]  #colomns between 1 (included) and 4 (excluded)\n",
        "print(arry2)\n",
        "\n",
        "arry2[0, 0] = 33    # 0 index of 0 row is replaced by 33\n",
        "print(arry2)\n",
        "\n",
        "print(arry[0, ::-1]) # the zero index row is printed in reverse order "
      ],
      "execution_count": 0,
      "outputs": [
        {
          "output_type": "stream",
          "text": [
            "[[0. 1. 2. 3. 4.]\n",
            " [5. 6. 7. 8. 9.]]\n",
            "[0. 1. 2. 3. 4.]\n",
            "[0. 5.]\n",
            "[[0. 1.]\n",
            " [5. 6.]]\n",
            "[[2. 3. 4.]\n",
            " [7. 8. 9.]]\n",
            "[[1. 2. 3.]\n",
            " [6. 7. 8.]]\n",
            "[[33.  2.  3.]\n",
            " [ 6.  7.  8.]]\n",
            "[ 4.  3.  2. 33.  0.]\n"
          ],
          "name": "stdout"
        }
      ]
    },
    {
      "cell_type": "code",
      "metadata": {
        "id": "T7LOfZaWfguu",
        "colab_type": "code",
        "outputId": "7ddbdf91-56e9-47ea-9fc9-3a491c736727",
        "colab": {
          "base_uri": "https://localhost:8080/",
          "height": 238
        }
      },
      "source": [
        "#FANCY INDEXING: INTEGER OR BOOLEAN ARRAY INDEXING\n",
        "\n",
        "arry_1 = np.arange(10, dtype = float).reshape((2, 5)) #matrix of 2 rows 5 colomns having float data type and 10 index \n",
        "                                                     #number is created\n",
        "\n",
        "print(arry_1)\n",
        "\n",
        "arry_2 = arry_1[:, 1:4]  #colomns between 1 (included) and 4 (excluded)\n",
        "print(arry2)\n",
        "\n",
        "arry_2[0, 0] = 33    # 0 index of 0 row is replaced by 33\n",
        "print(arry_2)\n",
        "\n",
        "print(arry_1[0, ::-1]) # the zero index row is printed in reverse order \n",
        "\n",
        "\n",
        "arry_2 = arry_1[:, [1, 2, 3]] \n",
        "print(arry_2)\n",
        "\n",
        "arry_2[0, 0] = 44  # 0 index of 0 row is replaced by 44\n",
        "print(arry_2)\n",
        "\n",
        "print(arry_1)"
      ],
      "execution_count": 0,
      "outputs": [
        {
          "output_type": "stream",
          "text": [
            "[[0. 1. 2. 3. 4.]\n",
            " [5. 6. 7. 8. 9.]]\n",
            "[[33.  2.  3.]\n",
            " [ 6.  7.  8.]]\n",
            "[[33.  2.  3.]\n",
            " [ 6.  7.  8.]]\n",
            "[ 4.  3.  2. 33.  0.]\n",
            "[[33.  2.  3.]\n",
            " [ 6.  7.  8.]]\n",
            "[[44.  2.  3.]\n",
            " [ 6.  7.  8.]]\n",
            "[[ 0. 33.  2.  3.  4.]\n",
            " [ 5.  6.  7.  8.  9.]]\n"
          ],
          "name": "stdout"
        }
      ]
    },
    {
      "cell_type": "code",
      "metadata": {
        "id": "Hq6ynR2_fj3j",
        "colab_type": "code",
        "outputId": "3f694b21-c56e-4969-a4a4-1d3e664b2888",
        "colab": {
          "base_uri": "https://localhost:8080/",
          "height": 85
        }
      },
      "source": [
        "arry_2 = arry_1[arry_1 > 5] # all the elements greater than 5 are printed\n",
        "print(arry_2)\n",
        "\n",
        "arry_2[0] = 44    # 0 index of 0 row is replaced by 44\n",
        "print(arry_2)\n",
        "\n",
        "print(arry_1)"
      ],
      "execution_count": 0,
      "outputs": [
        {
          "output_type": "stream",
          "text": [
            "[33.  6.  7.  8.  9.]\n",
            "[44.  6.  7.  8.  9.]\n",
            "[[ 0. 33.  2.  3.  4.]\n",
            " [ 5.  6.  7.  8.  9.]]\n"
          ],
          "name": "stdout"
        }
      ]
    },
    {
      "cell_type": "code",
      "metadata": {
        "id": "-qctS1xWfmqt",
        "colab_type": "code",
        "outputId": "7f390d57-a484-4dab-aa7d-073c74494a04",
        "colab": {
          "base_uri": "https://localhost:8080/",
          "height": 51
        }
      },
      "source": [
        "arry_1[arry_1 > 5 ]= 0 # all the numbers greater than 5 will be replaced by 0\n",
        "print(arry_1)"
      ],
      "execution_count": 0,
      "outputs": [
        {
          "output_type": "stream",
          "text": [
            "[[0. 0. 2. 3. 4.]\n",
            " [5. 0. 0. 0. 0.]]\n"
          ],
          "name": "stdout"
        }
      ]
    },
    {
      "cell_type": "code",
      "metadata": {
        "id": "nJdp-U15fpBf",
        "colab_type": "code",
        "outputId": "c2abd632-75df-4245-b8f4-5e2185c7ce37",
        "colab": {
          "base_uri": "https://localhost:8080/",
          "height": 119
        }
      },
      "source": [
        "# boolean array indexing\n",
        "\n",
        "name_1 = np.array(['Bob', 'Joe', 'Will', 'Bob'])\n",
        "print(name_1)\n",
        "\n",
        "print(name_1 == 'Bob')    # return the boolean condition of whether the word is present in the string\n",
        "\n",
        "print(name_1[name_1 != 'Bob']) # print name_1 when name_1 does not contain the word Bob\n",
        "\n",
        "print((name_1 == 'Bob') | (name_1 == 'Will')) # the or operation using the symbol as keyword does not work here\n",
        "\n",
        "name_1[name_1 != 'Bob'] = 'Joe' # in the string the word which is not bob is replaced with joe\n",
        "print(name_1)\n",
        "\n",
        "np.unique(name_1) "
      ],
      "execution_count": 0,
      "outputs": [
        {
          "output_type": "stream",
          "text": [
            "['Bob' 'Joe' 'Will' 'Bob']\n",
            "[ True False False  True]\n",
            "['Joe' 'Will']\n",
            "[ True False  True  True]\n",
            "['Bob' 'Joe' 'Joe' 'Bob']\n"
          ],
          "name": "stdout"
        },
        {
          "output_type": "execute_result",
          "data": {
            "text/plain": [
              "array(['Bob', 'Joe'], dtype='<U4')"
            ]
          },
          "metadata": {
            "tags": []
          },
          "execution_count": 21
        }
      ]
    },
    {
      "cell_type": "code",
      "metadata": {
        "id": "PBdBKvDbfr61",
        "colab_type": "code",
        "outputId": "07b427f4-853d-4407-b2be-2d45ac1277aa",
        "colab": {
          "base_uri": "https://localhost:8080/",
          "height": 136
        }
      },
      "source": [
        "#VECTORIZED OPERATION\n",
        "num_1 = np.arange(5)\n",
        "print(num_1)\n",
        "\n",
        "print(num_1 * 10) # the each element of the array is multiplied by 10\n",
        "\n",
        "num_1 = np.sqrt(num_1)  # square root of the function of the array\n",
        "print(num_1)\n",
        "\n",
        "print(np.ceil(num_1)) # the ceil is used to round up the integer nearest whole number\n",
        "\n",
        "print(np.isnan(num_1)) # since everything in array is number thus it is checking abd telling that there is no element which is not a number (NaN)\n",
        "\n",
        "print(num_1 + np.arange(5)) # simple addition of the element of two array\n",
        "\n",
        "print(np.maximum(num_1, np.array([-1, -2, -3, -4, 5]))) # print the greater number after comparing the array num-1 \n",
        "              # and [-1, -2, -3, -4, 5]"
      ],
      "execution_count": 0,
      "outputs": [
        {
          "output_type": "stream",
          "text": [
            "[0 1 2 3 4]\n",
            "[ 0 10 20 30 40]\n",
            "[0.         1.         1.41421356 1.73205081 2.        ]\n",
            "[0. 1. 2. 2. 2.]\n",
            "[False False False False False]\n",
            "[0.         2.         3.41421356 4.73205081 6.        ]\n",
            "[0.         1.         1.41421356 1.73205081 5.        ]\n"
          ],
          "name": "stdout"
        }
      ]
    },
    {
      "cell_type": "code",
      "metadata": {
        "id": "bNldlBmqfurf",
        "colab_type": "code",
        "outputId": "590afded-d27d-4f85-c49e-245f0fc73bd6",
        "colab": {
          "base_uri": "https://localhost:8080/",
          "height": 102
        }
      },
      "source": [
        "#compare distance\n",
        "vector_1 = np.random.randn(10) # generating the 10 random value for the array\n",
        "print(vector_1)\n",
        "\n",
        "vector_2 = np.random.randn(10) # creates an array of specified shape and fills it with random values as per standard normal distribution.\n",
        "print(vector_2)\n",
        "\n",
        "distance = np.sqrt(np.sum((vector_1 - vector_2) ** 2 )) # formula to determine the distance\n",
        "print(distance)"
      ],
      "execution_count": 0,
      "outputs": [
        {
          "output_type": "stream",
          "text": [
            "[ 0.1214765   0.84702785  0.07571178 -0.50792543 -1.40073081 -0.23166291\n",
            " -0.32770262  0.32180538  0.28692469  3.05224211]\n",
            "[ 1.81000161  0.23949782 -0.44059231 -0.35399539  0.1688957   0.55671847\n",
            "  0.18251658  1.0370031   0.67543354  0.40407951]\n",
            "3.8119919209896507\n"
          ],
          "name": "stdout"
        }
      ]
    },
    {
      "cell_type": "code",
      "metadata": {
        "id": "iGbhk41Kf2uD",
        "colab_type": "code",
        "outputId": "5cfb3e0d-0f5c-4efd-9dd4-0f1c3752d787",
        "colab": {
          "base_uri": "https://localhost:8080/",
          "height": 187
        }
      },
      "source": [
        "#math and stats\n",
        "number_1 = np.random.randn(4, 2) # random array which has 4 rows and 2 colomns\n",
        "print(number_1)\n",
        "\n",
        "print(number_1.mean())            # mean of array\n",
        "print(number_1.std())             # standard division of array\n",
        "print(number_1.argmin())          # index of minimun element of array\n",
        "print(number_1.sum())             # sum of all index of array \n",
        "print(number_1.sum(axis = 0))     # sum of all index of array in colomn index 0 and 1\n",
        "print(number_1.sum(axis = 1))     # sum of all index of array in terms of individual rows"
      ],
      "execution_count": 0,
      "outputs": [
        {
          "output_type": "stream",
          "text": [
            "[[-1.18087404  0.59999988]\n",
            " [ 0.44139847  1.58632371]\n",
            " [-0.58931437 -0.35619691]\n",
            " [ 0.57363737  1.60485763]]\n",
            "0.334978967579309\n",
            "0.9318548124378184\n",
            "0\n",
            "2.679831740634472\n",
            "[-0.75515257  3.43498431]\n",
            "[-0.58087416  2.02772218 -0.94551128  2.178495  ]\n"
          ],
          "name": "stdout"
        }
      ]
    },
    {
      "cell_type": "code",
      "metadata": {
        "id": "5wd4cH64f6Kh",
        "colab_type": "code",
        "outputId": "7fea0e94-bef0-4785-df17-df248b5ff711",
        "colab": {
          "base_uri": "https://localhost:8080/",
          "height": 68
        }
      },
      "source": [
        "#boolean opeartions\n",
        "print((number_1 > 0).sum())\n",
        "print((number_1 > 0).any())\n",
        "print((number_1 > 0).all())"
      ],
      "execution_count": 0,
      "outputs": [
        {
          "output_type": "stream",
          "text": [
            "5\n",
            "True\n",
            "False\n"
          ],
          "name": "stdout"
        }
      ]
    },
    {
      "cell_type": "code",
      "metadata": {
        "id": "p0la5vj3f84X",
        "colab_type": "code",
        "outputId": "89627d97-d576-480c-aead-0412177e3ec6",
        "colab": {
          "base_uri": "https://localhost:8080/",
          "height": 136
        }
      },
      "source": [
        "#random numbers \n",
        "print(np.random.seed(12234))         # set the seed ----- provides an input for the pseudo-random number generator in Python.if you change the seed, you will get a different output.\n",
        "print(np.random.rand(2, 3))          # 2 * 3 matrix --------- creates an array of specified shape and fills it with random values\n",
        "print(np.random.randn(10))           # random normal --------- 1 D Array filled with randnom values\n",
        "print(np.random.randint(0, 2, 10))   # 10 normally picked 0 or 1 (the lowest number can be 0 the highest can be 2 and the total number can be 10)"
      ],
      "execution_count": 0,
      "outputs": [
        {
          "output_type": "stream",
          "text": [
            "None\n",
            "[[0.00630595 0.20303476 0.76478993]\n",
            " [0.55513384 0.74358546 0.93777808]]\n",
            "[-2.79962074e-01  1.31281104e+00 -9.27155784e-01 -4.01302169e-01\n",
            " -2.31085929e+00 -2.08460156e+00  4.59241643e-01  1.62191344e+00\n",
            "  1.94515120e-01 -2.08631547e-03]\n",
            "[0 0 0 1 1 0 1 1 1 1]\n"
          ],
          "name": "stdout"
        }
      ]
    },
    {
      "cell_type": "code",
      "metadata": {
        "id": "2B8BZwTvgBwi",
        "colab_type": "code",
        "outputId": "16976413-3b41-44af-b5ba-0197bab4274e",
        "colab": {
          "base_uri": "https://localhost:8080/",
          "height": 85
        }
      },
      "source": [
        "#BROADCASTING\n",
        "\n",
        "a1 = np.array([[0, 0, 0],\n",
        "              [10, 10,10],\n",
        "              [20, 20, 20],\n",
        "              [30, 30, 30]])\n",
        "\n",
        "b1 = np.array([0, 1, 2])\n",
        "\n",
        "print(a1 + b1)"
      ],
      "execution_count": 0,
      "outputs": [
        {
          "output_type": "stream",
          "text": [
            "[[ 0  1  2]\n",
            " [10 11 12]\n",
            " [20 21 22]\n",
            " [30 31 32]]\n"
          ],
          "name": "stdout"
        }
      ]
    },
    {
      "cell_type": "code",
      "metadata": {
        "id": "AjmjJ71wgGSH",
        "colab_type": "code",
        "outputId": "74cdfb40-e682-4bc9-aa6b-14af00e227f4",
        "colab": {
          "base_uri": "https://localhost:8080/",
          "height": 170
        }
      },
      "source": [
        "#ASSINGMENT\n",
        "X = np.random.randn(4, 2)\n",
        "print(X)\n",
        "print(X.argmin(0))\n",
        "\n",
        "X = np.array(X)\n",
        "standardized_X = (X-X.mean())/X.std()\n",
        "print(standardized_X)"
      ],
      "execution_count": 0,
      "outputs": [
        {
          "output_type": "stream",
          "text": [
            "[[-1.06254652  0.72437607]\n",
            " [ 0.89954397 -1.1673215 ]\n",
            " [ 1.0130447  -1.86335047]\n",
            " [ 1.38646439 -0.06839843]]\n",
            "[0 2]\n",
            "[[-0.92351843  0.65526134]\n",
            " [ 0.81002548 -1.01608909]\n",
            " [ 0.91030552 -1.63104381]\n",
            " [ 1.24022885 -0.04516986]]\n"
          ],
          "name": "stdout"
        }
      ]
    },
    {
      "cell_type": "code",
      "metadata": {
        "id": "iYpVmRBBrv3D",
        "colab_type": "code",
        "colab": {}
      },
      "source": [
        "# In page no. 7 the addition of array is show. \n",
        "#As we can see from the pictorial depiction that the arrays are not of same dimension. \n",
        "#So the addition operation can not be achieved\n",
        "#To add these array you have to make them of same dimension.\n",
        "#We can achieve this by extending the array in respective row and colomn to make them of same dimension.\n",
        "#when the array are converted into the 3 dimensional array then we proceed further.\n",
        "#the addition is done simply by adding the respective element of both arrays."
      ],
      "execution_count": 0,
      "outputs": []
    }
  ]
}